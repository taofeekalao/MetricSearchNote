{
 "cells": [
  {
   "metadata": {},
   "cell_type": "markdown",
   "source": "# Documentation"
  },
  {
   "metadata": {},
   "cell_type": "markdown",
   "source": "The section below shows the imports of the required dependencies that are required for the demo."
  },
  {
   "metadata": {
    "ExecuteTime": {
     "end_time": "2024-07-24T11:39:38.553429Z",
     "start_time": "2024-07-24T11:39:38.508369Z"
    }
   },
   "cell_type": "code",
   "source": [
    "//The section below shows the imports of the required dependencies that are required for the demo.\n",
    "@file:DependsOn(\"../../../libs/Metric-space-framework-1.0-20211209.152843-1.jar\")\n",
    "\n",
    "import testloads.TestContext\n",
    "import kotlin.random.Random\n",
    "import org.apache.commons.math3.distribution.NormalDistribution\n"
   ],
   "outputs": [],
   "execution_count": 1
  },
  {
   "metadata": {},
   "cell_type": "markdown",
   "source": [
    "### Using The Metric Space Search Framework\n",
    "Using the Metric-Space-Search Framework to aid in the demo of the visualisation library."
   ]
  },
  {
   "metadata": {
    "ExecuteTime": {
     "end_time": "2024-07-24T11:39:39.075081Z",
     "start_time": "2024-07-24T11:39:38.662119Z"
    }
   },
   "cell_type": "code",
   "source": [
    "//Using the Metric-Space-Search Framework to aid in the demo of the visualisation library.\n",
    "val DATA_POINTS = 500\n",
    "val DIMENSION = 10\n",
    "\n",
    "var tc: TestContext\n",
    "tc = TestContext(\n",
    "    TestContext.Context.euc20,\n",
    "    DATA_POINTS + DIMENSION\n",
    ")\n",
    "\n",
    "tc.setSizes(0, DIMENSION)\n",
    "var distanceList = mutableListOf<Double>()\n",
    "var eucData = tc.getDataCopy()\n",
    "\n",
    "\n",
    "for (i in 0 until DATA_POINTS) {\n",
    "    for (j in 0 until DATA_POINTS) {\n",
    "        if (i != j) {\n",
    "            distanceList.add(tc.metric().distance(eucData[i], eucData[j]))\n",
    "        }\n",
    "    }\n",
    "}"
   ],
   "outputs": [],
   "execution_count": 2
  },
  {
   "metadata": {},
   "cell_type": "markdown",
   "source": [
    "### Histogram:\n",
    "\n",
    "This is the Histogram demonstration of the implementation class of the Two-Dimensional interface contract. This shows the library feature for saving the generated visualisation in a standard image format."
   ]
  },
  {
   "metadata": {
    "jupyter": {
     "is_executing": true
    },
    "ExecuteTime": {
     "start_time": "2024-07-24T11:39:39.077090Z"
    }
   },
   "cell_type": "code",
   "source": [
    "//Histogram:\n",
    "//This is the Histogram demo of the implementation class of the Two-Dimensional interface contract.\n",
    "val histogramLib = Histogram(xDataSet = distanceList)\n",
    "val histogramPlot = histogramLib.plot()\n",
    "histogramPlot.save(\"jhj.jpg\")"
   ],
   "outputs": [],
   "execution_count": null
  },
  {
   "metadata": {},
   "cell_type": "markdown",
   "source": [
    "### Scatter Plot:\n",
    "\n",
    "This is the Scatter Plot demonstration of the implementation class of the Two-Dimensional interface contract.\n",
    "\n",
    "\n",
    "\n",
    "Notes:"
   ]
  },
  {
   "metadata": {
    "jupyter": {
     "is_executing": true
    }
   },
   "cell_type": "code",
   "source": [
    "//Scatter Plot:\n",
    "//This is the Scatter Plot demonstration of the implementation class of the Two-Dimensional interface contract.\n",
    "\n",
    "// Selecting random data points - p and q to use as pivots.\n",
    "var qPosition = Random.nextInt(0, DATA_POINTS)\n",
    "var pPosition = Random.nextInt(0, DATA_POINTS)\n",
    "\n",
    "// Declaring blank list to hold distances from the two random points chosen above.\n",
    "var qDistanceList = mutableListOf<Double>()\n",
    "var pDistanceList = mutableListOf<Double>()\n",
    "\n",
    "for (j in 0 until DATA_POINTS) {\n",
    "    if (j != pPosition) {\n",
    "        pDistanceList.add(tc.metric().distance(eucData[qPosition], eucData[j]))\n",
    "    }\n",
    "\n",
    "    if ( j != qPosition) {\n",
    "        qDistanceList.add(tc.metric().distance(eucData[pPosition], eucData[j]))   \n",
    "    }\n",
    "}\n",
    "\n",
    "// Create scatter plot using Kandy\n",
    "val scatterLib = Scatter(xDataSet = qDistanceList, yDataSet = pDistanceList)\n",
    "val scatterPlot = scatterLib.plot()\n",
    "scatterPlot"
   ],
   "outputs": [],
   "execution_count": null
  },
  {
   "metadata": {},
   "cell_type": "markdown",
   "source": [
    "### Histogram:\n",
    "\n",
    "This is the Histogram Plot with the line option demonstration of the implementation class of the Two-Dimensional interface contract."
   ]
  },
  {
   "metadata": {
    "jupyter": {
     "is_executing": true
    }
   },
   "cell_type": "code",
   "source": [
    "//Histogram:\n",
    "//This is the Histogram Plot with the Line option demonstration of the implementation class of the Two-Dimensional interface contract.\n",
    "\n",
    "histogramLib.lineOption = true\n",
    "histogramLib.plot()"
   ],
   "outputs": [],
   "execution_count": null
  },
  {
   "metadata": {},
   "cell_type": "markdown",
   "source": [
    "### Histogram:\n",
    "\n",
    "This is the Histogram Plot without the line option demonstration of the implementation class of the Two-Dimensional interface contract."
   ]
  },
  {
   "metadata": {
    "jupyter": {
     "is_executing": true
    }
   },
   "cell_type": "code",
   "source": [
    "//Histogram:\n",
    "//This is the Histogram Plot without the Line option demonstration of the implementation class of the Two-Dimensional interface contract.\n",
    "\n",
    "histogramLib.lineOption = false\n",
    "histogramLib.plot()"
   ],
   "outputs": [],
   "execution_count": null
  },
  {
   "metadata": {},
   "cell_type": "markdown",
   "source": [
    "### Line Plot:\n",
    "\n",
    "This is the Line Plot demonstration of the implementation class of the Two-Dimensional interface contract.\n",
    "\n",
    "\n",
    "Relative to points"
   ]
  },
  {
   "metadata": {
    "jupyter": {
     "is_executing": true
    }
   },
   "cell_type": "code",
   "source": [
    "//Line Plot:\n",
    "//This is the Line Plot demo of the implementation class of the Two-Dimensional interface contract.\n",
    "val linePlot = Line(xDataSet = qDistanceList, yDataSet = pDistanceList, smoothness = false)\n",
    "linePlot.plot()"
   ],
   "outputs": [],
   "execution_count": null
  },
  {
   "metadata": {},
   "cell_type": "markdown",
   "source": [
    "### Line Plot With Vertical Intersect:\n",
    "\n",
    "This is the Line Plot with vertical intersect demonstration of the implementation class of the Two-Dimensional interface contract."
   ]
  },
  {
   "metadata": {
    "jupyter": {
     "is_executing": true
    }
   },
   "cell_type": "code",
   "source": [
    "//Line Plot With Vertical Intersect:\n",
    "//This is the Line Plot with vertical intersect demonstration of the implementation class of the Two-Dimensional interface contract.\n",
    "linePlot.verticalIntersect = true\n",
    "linePlot.verticalIntersectValue = 1.2\n",
    "linePlot.plot()"
   ],
   "outputs": [],
   "execution_count": null
  },
  {
   "metadata": {},
   "cell_type": "markdown",
   "source": [
    "### Line Plot With A Horizontal Intersect:\n",
    "\n",
    "This is the Line Plot with horizontal intersect demonstration of the implementation class of the Two-Dimensional interface contract."
   ]
  },
  {
   "metadata": {
    "jupyter": {
     "is_executing": true
    }
   },
   "cell_type": "code",
   "source": [
    "//Line Plot With Horizontal Intersect:\n",
    "//This is the Line Plot with horizontal intersect demonstration of the implementation class of the Two-Dimensional interface contract.\n",
    "\n",
    "linePlot.horizontalIntersect = true\n",
    "linePlot.verticalIntersect = false\n",
    "linePlot.horizontalIntersectValue = 0.4\n",
    "linePlot.plot()"
   ],
   "outputs": [],
   "execution_count": null
  },
  {
   "metadata": {},
   "cell_type": "markdown",
   "source": [
    "### Boxplot:\n",
    "\n",
    "This is the Boxplot demonstration of the implementation class of the Two-Dimensional interface contract."
   ]
  },
  {
   "metadata": {
    "jupyter": {
     "is_executing": true
    }
   },
   "cell_type": "code",
   "source": [
    "//Boxplot:\n",
    "//This is the Boxplot demo of the implementation class of the Two-Dimensional interface contract.\n",
    "var boxes = Boxplot(xDataSet = distanceList)\n",
    "boxes.plot()\n"
   ],
   "outputs": [],
   "execution_count": null
  },
  {
   "metadata": {},
   "cell_type": "markdown",
   "source": [
    "### Smooth Line:\n",
    "\n",
    "This is the Smooth Line diagram demonstration of the implementation class of the Two-Dimensional interface contract."
   ]
  },
  {
   "metadata": {
    "jupyter": {
     "is_executing": true
    }
   },
   "cell_type": "code",
   "source": [
    "//Smooth Line:\n",
    "\n",
    "//This is the Smooth Line diagram demonstration of the implementation class of the Two-Dimensional interface contract.\n",
    "linePlot.smoothness = false\n",
    "linePlot.plot()"
   ],
   "outputs": [],
   "execution_count": null
  },
  {
   "metadata": {},
   "cell_type": "markdown",
   "source": [
    "### The Cumulative Distribution Function (CDF):\n",
    "\n",
    "The Cumulative Distribution Function demonstration of the library using Apache Commons library."
   ]
  },
  {
   "metadata": {
    "jupyter": {
     "is_executing": true
    }
   },
   "cell_type": "code",
   "source": [
    "//The Cumulative Distribution Function (CDF):\n",
    "//The Cumulative Distribution Function demonstration of the library using Apache Commons library.\n",
    "\n",
    "// Define the parameters of the normal distribution\n",
    "val mean = 0.0\n",
    "val standardDeviation = 1.0\n",
    "\n",
    "// Create a normal distribution instance\n",
    "val normalDistribution = NormalDistribution(mean, standardDeviation)\n",
    "\n",
    "// Compute the CDF at a specific value\n",
    "val CDFDistanceList = distanceList.map { x ->\n",
    "    normalDistribution.cumulativeProbability(x)\n",
    "}\n",
    "\n",
    "var CDFLinePlot = Line(xDataSet = distanceList, yDataSet = CDFDistanceList)\n",
    "CDFLinePlot.diagramDescription = \"Cummulative Density Function\"\n",
    "CDFLinePlot.plot()"
   ],
   "outputs": [],
   "execution_count": null
  },
  {
   "metadata": {
    "jupyter": {
     "is_executing": true
    }
   },
   "cell_type": "code",
   "source": [
    "//The Cumulative Distribution Function (CDF):\n",
    "//The Cumulative Distribution Function demonstration of the library using Apache Commons library.\n",
    "\n",
    "// Define the parameters of the normal distribution\n",
    "val mean = 0.0\n",
    "val standardDeviation = 1.0\n",
    "\n",
    "var CDF = CumulativeDistributionPlot(xDataSet = distanceList)\n",
    "CDF.plot()"
   ],
   "outputs": [],
   "execution_count": null
  },
  {
   "metadata": {},
   "cell_type": "markdown",
   "source": [
    "### The Probability Density Function (PDF):\n",
    "\n",
    "The Probability Density Function demonstration of the library using Apache Commons library.\n",
    "\n",
    "### Density Plot:\n",
    "\n",
    "This is the Density Plot demonstration of the implementation class of the Two-Dimensional interface contract."
   ]
  },
  {
   "metadata": {
    "jupyter": {
     "is_executing": true
    }
   },
   "cell_type": "code",
   "source": [
    "var densityPlot = DensityPlot(xDataSet = distanceList)\n",
    "densityPlot.plot()"
   ],
   "outputs": [],
   "execution_count": null
  },
  {
   "metadata": {},
   "cell_type": "markdown",
   "source": [
    "### Higher Dimensional Projection To Two-Dimensional Space:\n",
    "\n",
    "This is the Higher Dimensional Projection To Two-Dimensional Space demo of the implementation."
   ]
  },
  {
   "metadata": {},
   "cell_type": "markdown",
   "source": [
    "Simple Heuristics To Select An Outlier [Zezula et al. - 2005 - Similarity Search The Metric Space Approach, pg 64]\n",
    "\n",
    "1. Choose a random object\n",
    "2. Compute the distances from this object to all others\n",
    "3. Select the furthest object as the pivot"
   ]
  },
  {
   "metadata": {
    "jupyter": {
     "is_executing": true
    }
   },
   "cell_type": "code",
   "source": "",
   "outputs": [],
   "execution_count": null
  }
 ],
 "metadata": {
  "kernelspec": {
   "display_name": "Kotlin",
   "language": "kotlin",
   "name": "kotlin"
  },
  "language_info": {
   "name": "kotlin",
   "version": "1.9.23",
   "mimetype": "text/x-kotlin",
   "file_extension": ".kt",
   "pygments_lexer": "kotlin",
   "codemirror_mode": "text/x-kotlin",
   "nbconvert_exporter": ""
  }
 },
 "nbformat": 4,
 "nbformat_minor": 0
}
